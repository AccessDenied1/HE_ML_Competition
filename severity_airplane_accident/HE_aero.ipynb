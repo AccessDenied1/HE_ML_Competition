{
  "nbformat": 4,
  "nbformat_minor": 0,
  "metadata": {
    "colab": {
      "name": "HE_aero.ipynb",
      "provenance": [],
      "collapsed_sections": [],
      "authorship_tag": "ABX9TyP209AxINLmPrt0OGcg/yzH",
      "include_colab_link": true
    },
    "kernelspec": {
      "name": "python3",
      "display_name": "Python 3"
    },
    "accelerator": "GPU"
  },
  "cells": [
    {
      "cell_type": "markdown",
      "metadata": {
        "id": "view-in-github",
        "colab_type": "text"
      },
      "source": [
        "<a href=\"https://colab.research.google.com/github/AccessDenied1/HE_ML_Competition/blob/master/severity_airplane_accident/HE_aero.ipynb\" target=\"_parent\"><img src=\"https://colab.research.google.com/assets/colab-badge.svg\" alt=\"Open In Colab\"/></a>"
      ]
    },
    {
      "cell_type": "markdown",
      "metadata": {
        "id": "DjdCOraZdIF-",
        "colab_type": "text"
      },
      "source": [
        "##***I have used LGBM model for this.***\n",
        "### Result 85% accuracy by online judge\n",
        "\n",
        "\n"
      ]
    },
    {
      "cell_type": "code",
      "metadata": {
        "id": "rD0D4HLZ7azJ",
        "colab_type": "code",
        "outputId": "a0945318-e940-4365-af3a-3cd220fc8cee",
        "colab": {
          "base_uri": "https://localhost:8080/",
          "height": 141
        }
      },
      "source": [
        "from google.colab import drive\n",
        "\n",
        "drive.mount('/content/drive')\n",
        "\n",
        "%cd /content/drive/My\\ Drive/HackerEarth/severity_airplane_accident"
      ],
      "execution_count": 1,
      "outputs": [
        {
          "output_type": "stream",
          "text": [
            "Go to this URL in a browser: https://accounts.google.com/o/oauth2/auth?client_id=947318989803-6bn6qk8qdgf4n4g3pfee6491hc0brc4i.apps.googleusercontent.com&redirect_uri=urn%3aietf%3awg%3aoauth%3a2.0%3aoob&response_type=code&scope=email%20https%3a%2f%2fwww.googleapis.com%2fauth%2fdocs.test%20https%3a%2f%2fwww.googleapis.com%2fauth%2fdrive%20https%3a%2f%2fwww.googleapis.com%2fauth%2fdrive.photos.readonly%20https%3a%2f%2fwww.googleapis.com%2fauth%2fpeopleapi.readonly\n",
            "\n",
            "Enter your authorization code:\n",
            "··········\n",
            "Mounted at /content/drive\n",
            "/content/drive/My Drive/HackerEarth/severity_airplane_accident\n"
          ],
          "name": "stdout"
        }
      ]
    },
    {
      "cell_type": "code",
      "metadata": {
        "id": "VdPAq4A27j9y",
        "colab_type": "code",
        "colab": {}
      },
      "source": [
        "import csv\n",
        "from collections import defaultdict\n",
        "\n",
        "columns = defaultdict(list) # each value in each column is appended to a list\n",
        "\n",
        "with open('train.csv') as f:\n",
        "    reader = csv.DictReader(f) # read rows into a dictionary format\n",
        "    for row in reader: # read a row as {column1: value1, column2: value2,...}\n",
        "        for (k,v) in row.items(): # go over each column name and value \n",
        "            columns[k].append(v) # append the value into the appropriate list\n",
        "                                 # based on column name k\n",
        "\n",
        "sever = columns['Severity']\n",
        "safety_score = columns['Safety_Score']\n",
        "days = columns['Days_Since_Inspection']\n",
        "complt = columns['Total_Safety_Complaints']\n",
        "control = columns['Control_Metric']\n",
        "turb = columns['Turbulence_In_gforces']\n",
        "temp = columns['Cabin_Temperature']\n",
        "code = columns['Accident_Type_Code']\n",
        "elev = columns['Max_Elevation']\n",
        "viol = columns['Violations']\n",
        "weather = columns['Adverse_Weather_Metric']\n",
        "id = columns['Accident_ID']"
      ],
      "execution_count": 0,
      "outputs": []
    },
    {
      "cell_type": "code",
      "metadata": {
        "id": "Mjf0cZGzcfRi",
        "colab_type": "code",
        "colab": {}
      },
      "source": [
        "Safety_score = [float(i) for i in safety_score]\n",
        "Days = [float(i) for i in days]\n",
        "Complt = [float(i) for i in complt]\n",
        "Control = [float(i) for i in control]\n",
        "Turb = [float(i) for i in turb]\n",
        "Temp = [float(i) for i in temp]\n",
        "Code = [float(i) for i in code]\n",
        "Elev = [float(i) for i in elev]\n",
        "Viol = [float(i) for i in viol]\n",
        "Weather = [float(i) for i in weather]\n",
        "ID = [float(i) for i in id]"
      ],
      "execution_count": 0,
      "outputs": []
    },
    {
      "cell_type": "code",
      "metadata": {
        "id": "u73HxQ7qdqBn",
        "colab_type": "code",
        "outputId": "43169a3e-bc32-4257-be31-b96929a6b370",
        "colab": {
          "base_uri": "https://localhost:8080/",
          "height": 265
        }
      },
      "source": [
        "import seaborn as sns\n",
        "ax = sns.distplot(Weather)"
      ],
      "execution_count": 4,
      "outputs": [
        {
          "output_type": "display_data",
          "data": {
            "image/png": "[encoded data removed]",
            "text/plain": [
              "<Figure size 432x288 with 1 Axes>"
            ]
          },
          "metadata": {
            "tags": []
          }
        }
      ]
    },
    {
      "cell_type": "code",
      "metadata": {
        "id": "xtiGuCAXdzf4",
        "colab_type": "code",
        "outputId": "f0bf0e9f-8cd0-49f0-f464-f0f6f84930ee",
        "colab": {
          "base_uri": "https://localhost:8080/",
          "height": 34
        }
      },
      "source": [
        "print(\"no of data = \",len(ID))"
      ],
      "execution_count": 5,
      "outputs": [
        {
          "output_type": "stream",
          "text": [
            "no of data =  10000\n"
          ],
          "name": "stdout"
        }
      ]
    },
    {
      "cell_type": "code",
      "metadata": {
        "id": "rkgwBcEYeAo4",
        "colab_type": "code",
        "colab": {}
      },
      "source": [
        "import numpy as np\n",
        "X = np.zeros((10000,10))\n",
        "X[:,0] = Safety_score\n",
        "X[:,1] = Days\n",
        "X[:,2] = Complt\n",
        "X[:,3] = Control\n",
        "X[:,4] = Turb\n",
        "X[:,5] = Temp\n",
        "X[:,6] = Code\n",
        "X[:,7] = Elev\n",
        "X[:,8] = Viol\n",
        "X[:,9] = Weather"
      ],
      "execution_count": 0,
      "outputs": []
    },
    {
      "cell_type": "code",
      "metadata": {
        "id": "vvTtw8eMfz7C",
        "colab_type": "code",
        "colab": {}
      },
      "source": [
        "Y = np.array(sever)"
      ],
      "execution_count": 0,
      "outputs": []
    },
    {
      "cell_type": "code",
      "metadata": {
        "id": "YRvYl14uhieb",
        "colab_type": "code",
        "outputId": "79cbf50f-3edb-40f1-ac9b-52cf05ce19ca",
        "colab": {
          "base_uri": "https://localhost:8080/",
          "height": 34
        }
      },
      "source": [
        "from collections import Counter\n",
        "Counter(Y).keys()"
      ],
      "execution_count": 8,
      "outputs": [
        {
          "output_type": "execute_result",
          "data": {
            "text/plain": [
              "dict_keys(['Minor_Damage_And_Injuries', 'Significant_Damage_And_Fatalities', 'Significant_Damage_And_Serious_Injuries', 'Highly_Fatal_And_Damaging'])"
            ]
          },
          "metadata": {
            "tags": []
          },
          "execution_count": 8
        }
      ]
    },
    {
      "cell_type": "code",
      "metadata": {
        "id": "JWHnLaEqi9a_",
        "colab_type": "code",
        "colab": {}
      },
      "source": [
        "from sklearn.preprocessing import LabelEncoder\n",
        "from sklearn import preprocessing\n",
        "le = preprocessing.LabelEncoder()\n",
        "le.fit(Y)\n",
        "labels = list(le.classes_)"
      ],
      "execution_count": 0,
      "outputs": []
    },
    {
      "cell_type": "code",
      "metadata": {
        "id": "7VKwW-d_jmsZ",
        "colab_type": "code",
        "colab": {}
      },
      "source": [
        "Y_new = le.transform(Y)"
      ],
      "execution_count": 0,
      "outputs": []
    },
    {
      "cell_type": "code",
      "metadata": {
        "id": "TaTz1G4EfulV",
        "colab_type": "code",
        "colab": {}
      },
      "source": [
        "from sklearn.model_selection import train_test_split\n",
        "x_train, x_test, y_train, y_test = train_test_split(X, Y_new, \n",
        "                                                    test_size = 0.20, \n",
        "                                                    random_state = 0)"
      ],
      "execution_count": 0,
      "outputs": []
    },
    {
      "cell_type": "code",
      "metadata": {
        "id": "9uF5Uxe9m_ho",
        "colab_type": "code",
        "outputId": "f1b5c6da-ed48-4998-ded3-902dadc7b011",
        "colab": {
          "base_uri": "https://localhost:8080/",
          "height": 52
        }
      },
      "source": [
        "print(\"no of test data = \",len(y_test))\n",
        "print(\"no of train data = \",len(y_train))"
      ],
      "execution_count": 12,
      "outputs": [
        {
          "output_type": "stream",
          "text": [
            "no of test data =  2000\n",
            "no of train data =  8000\n"
          ],
          "name": "stdout"
        }
      ]
    },
    {
      "cell_type": "code",
      "metadata": {
        "id": "JCiEcCcYfn-A",
        "colab_type": "code",
        "outputId": "20e5ac26-e4e1-414a-f7dd-91da466a4c32",
        "colab": {
          "base_uri": "https://localhost:8080/",
          "height": 52
        }
      },
      "source": [
        "import lightgbm as lgb\n",
        "d_train = lgb.Dataset(x_train, label=y_train)\n",
        "params = {}\n",
        "params['learning_rate'] = 0.003\n",
        "params['boosting_type'] = 'gbdt'\n",
        "params['objective'] = 'multiclass'\n",
        "params['metric'] = 'multi_logloss'\n",
        "params['sub_feature'] = 0.5\n",
        "params['num_leaves'] = 40\n",
        "params['min_data'] = 50\n",
        "params['max_depth'] = 15\n",
        "params['task'] = 'train'\n",
        "params['num_class'] = 4\n",
        "params['max_bin'] = 500\n",
        "params['num_iterations'] = 5000\n",
        "\n",
        "clf = lgb.train(params, d_train, 100)"
      ],
      "execution_count": 14,
      "outputs": [
        {
          "output_type": "stream",
          "text": [
            "/usr/local/lib/python3.6/dist-packages/lightgbm/engine.py:118: UserWarning: Found `num_iterations` in params. Will use it instead of argument\n",
            "  warnings.warn(\"Found `{}` in params. Will use it instead of argument\".format(alias))\n"
          ],
          "name": "stderr"
        }
      ]
    },
    {
      "cell_type": "code",
      "metadata": {
        "id": "tvlUIoOrfo0Q",
        "colab_type": "code",
        "colab": {}
      },
      "source": [
        "y_pred=clf.predict(x_test)"
      ],
      "execution_count": 0,
      "outputs": []
    },
    {
      "cell_type": "code",
      "metadata": {
        "id": "tRhoP4BAkpUu",
        "colab_type": "code",
        "colab": {}
      },
      "source": [
        "import numpy as np\n",
        "y_pred_lab = []\n",
        "for i in y_pred:\n",
        "    y_pred_lab.append(np.argmax(i))"
      ],
      "execution_count": 0,
      "outputs": []
    },
    {
      "cell_type": "code",
      "metadata": {
        "id": "HYEszBC5j4Kp",
        "colab_type": "code",
        "outputId": "0b872050-1084-47e0-8d6f-d1128304f5f2",
        "colab": {
          "base_uri": "https://localhost:8080/",
          "height": 34
        }
      },
      "source": [
        "err = 0\n",
        "for i in range(len(y_test)):\n",
        "    if (y_pred_lab[i] != y_test[i]):\n",
        "        err = err + 1\n",
        "print(\"Mean Validation error = \",float(err)/len(y_test))"
      ],
      "execution_count": 17,
      "outputs": [
        {
          "output_type": "stream",
          "text": [
            "Mean Validation error =  0.0445\n"
          ],
          "name": "stdout"
        }
      ]
    },
    {
      "cell_type": "code",
      "metadata": {
        "colab_type": "code",
        "id": "VFBLuaOSBPEe",
        "colab": {}
      },
      "source": [
        "y_t_pred=clf.predict(x_train)"
      ],
      "execution_count": 0,
      "outputs": []
    },
    {
      "cell_type": "code",
      "metadata": {
        "colab_type": "code",
        "id": "ze1p-_HEBPFC",
        "colab": {}
      },
      "source": [
        "import numpy as np\n",
        "y_t_pred_lab = []\n",
        "for i in y_t_pred:\n",
        "    y_t_pred_lab.append(np.argmax(i))"
      ],
      "execution_count": 0,
      "outputs": []
    },
    {
      "cell_type": "code",
      "metadata": {
        "colab_type": "code",
        "id": "tI71Gj_aBPFR",
        "outputId": "b7bd6074-06b6-4a0d-b027-2423fd7d835c",
        "colab": {
          "base_uri": "https://localhost:8080/",
          "height": 34
        }
      },
      "source": [
        "err = 0\n",
        "for i in range(len(y_train)):\n",
        "    if (y_t_pred_lab[i] != y_train[i]):\n",
        "        err = err + 1\n",
        "print(\"Mean Training error = \",float(err)/len(y_train))"
      ],
      "execution_count": 20,
      "outputs": [
        {
          "output_type": "stream",
          "text": [
            "Mean Training error =  0.002625\n"
          ],
          "name": "stdout"
        }
      ]
    },
    {
      "cell_type": "code",
      "metadata": {
        "id": "Zn0Bo-IZkDQK",
        "colab_type": "code",
        "colab": {}
      },
      "source": [
        "import csv\n",
        "from collections import defaultdict\n",
        "\n",
        "columns = defaultdict(list) # each value in each column is appended to a list\n",
        "\n",
        "with open('test.csv') as f:\n",
        "    reader = csv.DictReader(f) # read rows into a dictionary format\n",
        "    for row in reader: # read a row as {column1: value1, column2: value2,...}\n",
        "        for (k,v) in row.items(): # go over each column name and value \n",
        "            columns[k].append(v) # append the value into the appropriate list\n",
        "                                 # based on column name k\n",
        "                                 \n",
        "safety_score = columns['Safety_Score']\n",
        "days = columns['Days_Since_Inspection']\n",
        "complt = columns['Total_Safety_Complaints']\n",
        "control = columns['Control_Metric']\n",
        "turb = columns['Turbulence_In_gforces']\n",
        "temp = columns['Cabin_Temperature']\n",
        "code = columns['Accident_Type_Code']\n",
        "elev = columns['Max_Elevation']\n",
        "viol = columns['Violations']\n",
        "weather = columns['Adverse_Weather_Metric']\n",
        "id = columns['Accident_ID']"
      ],
      "execution_count": 0,
      "outputs": []
    },
    {
      "cell_type": "code",
      "metadata": {
        "id": "hb0QdfaR_Yjq",
        "colab_type": "code",
        "colab": {}
      },
      "source": [
        "Safety_score = [float(i) for i in safety_score]\n",
        "Days = [float(i) for i in days]\n",
        "Complt = [float(i) for i in complt]\n",
        "Control = [float(i) for i in control]\n",
        "Turb = [float(i) for i in turb]\n",
        "Temp = [float(i) for i in temp]\n",
        "Code = [float(i) for i in code]\n",
        "Elev = [float(i) for i in elev]\n",
        "Viol = [float(i) for i in viol]\n",
        "Weather = [float(i) for i in weather]\n",
        "ID = [float(i) for i in id]"
      ],
      "execution_count": 0,
      "outputs": []
    },
    {
      "cell_type": "code",
      "metadata": {
        "colab_type": "code",
        "outputId": "41c121a7-b1d4-40d8-c6f8-d04dd7d8fcb2",
        "id": "AaR5Hvuv_1MY",
        "colab": {
          "base_uri": "https://localhost:8080/",
          "height": 34
        }
      },
      "source": [
        "print(\"no of data = \",len(ID))"
      ],
      "execution_count": 24,
      "outputs": [
        {
          "output_type": "stream",
          "text": [
            "no of data =  2500\n"
          ],
          "name": "stdout"
        }
      ]
    },
    {
      "cell_type": "code",
      "metadata": {
        "colab_type": "code",
        "id": "bHxRcJn6_1NA",
        "colab": {}
      },
      "source": [
        "import numpy as np\n",
        "Xx = np.zeros((len(ID),10))\n",
        "Xx[:,0] = Safety_score\n",
        "Xx[:,1] = Days\n",
        "Xx[:,2] = Complt\n",
        "Xx[:,3] = Control\n",
        "Xx[:,4] = Turb\n",
        "Xx[:,5] = Temp\n",
        "Xx[:,6] = Code\n",
        "Xx[:,7] = Elev\n",
        "Xx[:,8] = Viol\n",
        "Xx[:,9] = Weather"
      ],
      "execution_count": 0,
      "outputs": []
    },
    {
      "cell_type": "code",
      "metadata": {
        "id": "6YVmgQE8BrcD",
        "colab_type": "code",
        "colab": {}
      },
      "source": [
        "Y_pred=clf.predict(Xx)"
      ],
      "execution_count": 0,
      "outputs": []
    },
    {
      "cell_type": "code",
      "metadata": {
        "id": "0k8b6WykCnhm",
        "colab_type": "code",
        "colab": {}
      },
      "source": [
        "label_inx = []\n",
        "for i in Y_pred:\n",
        "    al = np.argmax(i)\n",
        "    label_inx.append(labels[al])"
      ],
      "execution_count": 0,
      "outputs": []
    },
    {
      "cell_type": "code",
      "metadata": {
        "id": "F8uVAh-GC-TF",
        "colab_type": "code",
        "colab": {}
      },
      "source": [
        "import pandas as pd \n",
        "\n",
        "# list of name, degree, score \n",
        "# dictionary of lists \n",
        "dict = {'Accident_ID': ID, 'Severity': label_inx} \n",
        "\t\n",
        "df = pd.DataFrame(dict) \n",
        "\n",
        "# saving the dataframe \n",
        "df.to_csv('submission.csv',index=False)\n"
      ],
      "execution_count": 0,
      "outputs": []
    },
    {
      "cell_type": "code",
      "metadata": {
        "id": "3pJsIL8NDNZ6",
        "colab_type": "code",
        "colab": {}
      },
      "source": [
        "from google.colab import files\n",
        "files.download(\"submission.csv\")"
      ],
      "execution_count": 0,
      "outputs": []
    },
    {
      "cell_type": "code",
      "metadata": {
        "id": "nI8ZHsr1Led1",
        "colab_type": "code",
        "colab": {}
      },
      "source": [
        ""
      ],
      "execution_count": 0,
      "outputs": []
    }
  ]
}